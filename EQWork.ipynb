{
 "cells": [
  {
   "cell_type": "code",
   "execution_count": 94,
   "id": "d115a2a8-a602-4b27-b086-ee28af0c8536",
   "metadata": {},
   "outputs": [],
   "source": [
    "import os\n",
    "import pandas as pd\n",
    "import math\n",
    "\n",
    "df = pd.read_csv(os.path.expanduser('./data/DataSample.csv'))\n",
    "POI_df = pd.read_csv(os.path.expanduser('./data/POIList.csv'))"
   ]
  },
  {
   "cell_type": "code",
   "execution_count": 95,
   "id": "8af85638-d1e9-426b-801a-f8e04a17a513",
   "metadata": {},
   "outputs": [
    {
     "data": {
      "text/html": [
       "<div>\n",
       "<style scoped>\n",
       "    .dataframe tbody tr th:only-of-type {\n",
       "        vertical-align: middle;\n",
       "    }\n",
       "\n",
       "    .dataframe tbody tr th {\n",
       "        vertical-align: top;\n",
       "    }\n",
       "\n",
       "    .dataframe thead th {\n",
       "        text-align: right;\n",
       "    }\n",
       "</style>\n",
       "<table border=\"1\" class=\"dataframe\">\n",
       "  <thead>\n",
       "    <tr style=\"text-align: right;\">\n",
       "      <th></th>\n",
       "      <th>_ID</th>\n",
       "      <th>TimeSt</th>\n",
       "      <th>Country</th>\n",
       "      <th>Province</th>\n",
       "      <th>City</th>\n",
       "      <th>Latitude</th>\n",
       "      <th>Longitude</th>\n",
       "    </tr>\n",
       "  </thead>\n",
       "  <tbody>\n",
       "    <tr>\n",
       "      <th>0</th>\n",
       "      <td>4516516</td>\n",
       "      <td>2017-06-21 00:00:00.143</td>\n",
       "      <td>CA</td>\n",
       "      <td>ON</td>\n",
       "      <td>Waterloo</td>\n",
       "      <td>43.49347</td>\n",
       "      <td>-80.49123</td>\n",
       "    </tr>\n",
       "    <tr>\n",
       "      <th>1</th>\n",
       "      <td>4516547</td>\n",
       "      <td>2017-06-21 18:00:00.193</td>\n",
       "      <td>CA</td>\n",
       "      <td>ON</td>\n",
       "      <td>London</td>\n",
       "      <td>42.93990</td>\n",
       "      <td>-81.27090</td>\n",
       "    </tr>\n",
       "    <tr>\n",
       "      <th>2</th>\n",
       "      <td>4516550</td>\n",
       "      <td>2017-06-21 15:00:00.287</td>\n",
       "      <td>CA</td>\n",
       "      <td>ON</td>\n",
       "      <td>Guelph</td>\n",
       "      <td>43.57760</td>\n",
       "      <td>-80.22010</td>\n",
       "    </tr>\n",
       "    <tr>\n",
       "      <th>3</th>\n",
       "      <td>4516600</td>\n",
       "      <td>2017-06-21 15:00:00.307</td>\n",
       "      <td>CA</td>\n",
       "      <td>ON</td>\n",
       "      <td>Stratford</td>\n",
       "      <td>43.37160</td>\n",
       "      <td>-80.97730</td>\n",
       "    </tr>\n",
       "    <tr>\n",
       "      <th>4</th>\n",
       "      <td>4516613</td>\n",
       "      <td>2017-06-21 15:00:00.497</td>\n",
       "      <td>CA</td>\n",
       "      <td>ON</td>\n",
       "      <td>Stratford</td>\n",
       "      <td>43.37160</td>\n",
       "      <td>-80.97730</td>\n",
       "    </tr>\n",
       "  </tbody>\n",
       "</table>\n",
       "</div>"
      ],
      "text/plain": [
       "       _ID                   TimeSt Country Province       City  Latitude  \\\n",
       "0  4516516  2017-06-21 00:00:00.143      CA       ON   Waterloo  43.49347   \n",
       "1  4516547  2017-06-21 18:00:00.193      CA       ON     London  42.93990   \n",
       "2  4516550  2017-06-21 15:00:00.287      CA       ON     Guelph  43.57760   \n",
       "3  4516600  2017-06-21 15:00:00.307      CA       ON  Stratford  43.37160   \n",
       "4  4516613  2017-06-21 15:00:00.497      CA       ON  Stratford  43.37160   \n",
       "\n",
       "   Longitude  \n",
       "0  -80.49123  \n",
       "1  -81.27090  \n",
       "2  -80.22010  \n",
       "3  -80.97730  \n",
       "4  -80.97730  "
      ]
     },
     "execution_count": 95,
     "metadata": {},
     "output_type": "execute_result"
    }
   ],
   "source": [
    "df.head()"
   ]
  },
  {
   "cell_type": "code",
   "execution_count": 96,
   "id": "f8ac84f7-f73f-4aa9-96a2-2181e41fe7ef",
   "metadata": {},
   "outputs": [
    {
     "data": {
      "text/html": [
       "<div>\n",
       "<style scoped>\n",
       "    .dataframe tbody tr th:only-of-type {\n",
       "        vertical-align: middle;\n",
       "    }\n",
       "\n",
       "    .dataframe tbody tr th {\n",
       "        vertical-align: top;\n",
       "    }\n",
       "\n",
       "    .dataframe thead th {\n",
       "        text-align: right;\n",
       "    }\n",
       "</style>\n",
       "<table border=\"1\" class=\"dataframe\">\n",
       "  <thead>\n",
       "    <tr style=\"text-align: right;\">\n",
       "      <th></th>\n",
       "      <th>POIID</th>\n",
       "      <th>Latitude</th>\n",
       "      <th>Longitude</th>\n",
       "    </tr>\n",
       "  </thead>\n",
       "  <tbody>\n",
       "    <tr>\n",
       "      <th>0</th>\n",
       "      <td>POI1</td>\n",
       "      <td>53.546167</td>\n",
       "      <td>-113.485734</td>\n",
       "    </tr>\n",
       "    <tr>\n",
       "      <th>1</th>\n",
       "      <td>POI2</td>\n",
       "      <td>53.546167</td>\n",
       "      <td>-113.485734</td>\n",
       "    </tr>\n",
       "    <tr>\n",
       "      <th>2</th>\n",
       "      <td>POI3</td>\n",
       "      <td>45.521629</td>\n",
       "      <td>-73.566024</td>\n",
       "    </tr>\n",
       "    <tr>\n",
       "      <th>3</th>\n",
       "      <td>POI4</td>\n",
       "      <td>45.224830</td>\n",
       "      <td>-63.232729</td>\n",
       "    </tr>\n",
       "  </tbody>\n",
       "</table>\n",
       "</div>"
      ],
      "text/plain": [
       "  POIID   Latitude   Longitude\n",
       "0  POI1  53.546167 -113.485734\n",
       "1  POI2  53.546167 -113.485734\n",
       "2  POI3  45.521629  -73.566024\n",
       "3  POI4  45.224830  -63.232729"
      ]
     },
     "execution_count": 96,
     "metadata": {},
     "output_type": "execute_result"
    }
   ],
   "source": [
    "POI_df"
   ]
  },
  {
   "cell_type": "markdown",
   "id": "b673afad-f462-4736-a732-cd713a8fbb39",
   "metadata": {},
   "source": [
    "# 1. Clean Up"
   ]
  },
  {
   "cell_type": "markdown",
   "id": "fa2aa77a-7ec3-4699-a4e4-40caa9074bbd",
   "metadata": {},
   "source": [
    "## Filter out rows with identical geoinfo and timest"
   ]
  },
  {
   "cell_type": "code",
   "execution_count": 97,
   "id": "c141d5b8-0a81-486c-872a-dc5835e0e0b8",
   "metadata": {},
   "outputs": [],
   "source": [
    "filtered_df = df.drop_duplicates(subset=[' TimeSt', 'Latitude', 'Longitude'], keep=False)"
   ]
  },
  {
   "cell_type": "code",
   "execution_count": 98,
   "id": "fa67aa99-7d4c-406c-896b-0e4836e5544f",
   "metadata": {},
   "outputs": [
    {
     "data": {
      "text/html": [
       "<div>\n",
       "<style scoped>\n",
       "    .dataframe tbody tr th:only-of-type {\n",
       "        vertical-align: middle;\n",
       "    }\n",
       "\n",
       "    .dataframe tbody tr th {\n",
       "        vertical-align: top;\n",
       "    }\n",
       "\n",
       "    .dataframe thead th {\n",
       "        text-align: right;\n",
       "    }\n",
       "</style>\n",
       "<table border=\"1\" class=\"dataframe\">\n",
       "  <thead>\n",
       "    <tr style=\"text-align: right;\">\n",
       "      <th></th>\n",
       "      <th>_ID</th>\n",
       "      <th>TimeSt</th>\n",
       "      <th>Country</th>\n",
       "      <th>Province</th>\n",
       "      <th>City</th>\n",
       "      <th>Latitude</th>\n",
       "      <th>Longitude</th>\n",
       "    </tr>\n",
       "  </thead>\n",
       "  <tbody>\n",
       "    <tr>\n",
       "      <th>0</th>\n",
       "      <td>4516516</td>\n",
       "      <td>2017-06-21 00:00:00.143</td>\n",
       "      <td>CA</td>\n",
       "      <td>ON</td>\n",
       "      <td>Waterloo</td>\n",
       "      <td>43.49347</td>\n",
       "      <td>-80.49123</td>\n",
       "    </tr>\n",
       "    <tr>\n",
       "      <th>1</th>\n",
       "      <td>4516547</td>\n",
       "      <td>2017-06-21 18:00:00.193</td>\n",
       "      <td>CA</td>\n",
       "      <td>ON</td>\n",
       "      <td>London</td>\n",
       "      <td>42.93990</td>\n",
       "      <td>-81.27090</td>\n",
       "    </tr>\n",
       "    <tr>\n",
       "      <th>2</th>\n",
       "      <td>4516550</td>\n",
       "      <td>2017-06-21 15:00:00.287</td>\n",
       "      <td>CA</td>\n",
       "      <td>ON</td>\n",
       "      <td>Guelph</td>\n",
       "      <td>43.57760</td>\n",
       "      <td>-80.22010</td>\n",
       "    </tr>\n",
       "    <tr>\n",
       "      <th>3</th>\n",
       "      <td>4516600</td>\n",
       "      <td>2017-06-21 15:00:00.307</td>\n",
       "      <td>CA</td>\n",
       "      <td>ON</td>\n",
       "      <td>Stratford</td>\n",
       "      <td>43.37160</td>\n",
       "      <td>-80.97730</td>\n",
       "    </tr>\n",
       "    <tr>\n",
       "      <th>4</th>\n",
       "      <td>4516613</td>\n",
       "      <td>2017-06-21 15:00:00.497</td>\n",
       "      <td>CA</td>\n",
       "      <td>ON</td>\n",
       "      <td>Stratford</td>\n",
       "      <td>43.37160</td>\n",
       "      <td>-80.97730</td>\n",
       "    </tr>\n",
       "  </tbody>\n",
       "</table>\n",
       "</div>"
      ],
      "text/plain": [
       "       _ID                   TimeSt Country Province       City  Latitude  \\\n",
       "0  4516516  2017-06-21 00:00:00.143      CA       ON   Waterloo  43.49347   \n",
       "1  4516547  2017-06-21 18:00:00.193      CA       ON     London  42.93990   \n",
       "2  4516550  2017-06-21 15:00:00.287      CA       ON     Guelph  43.57760   \n",
       "3  4516600  2017-06-21 15:00:00.307      CA       ON  Stratford  43.37160   \n",
       "4  4516613  2017-06-21 15:00:00.497      CA       ON  Stratford  43.37160   \n",
       "\n",
       "   Longitude  \n",
       "0  -80.49123  \n",
       "1  -81.27090  \n",
       "2  -80.22010  \n",
       "3  -80.97730  \n",
       "4  -80.97730  "
      ]
     },
     "execution_count": 98,
     "metadata": {},
     "output_type": "execute_result"
    }
   ],
   "source": [
    "filtered_df.head()"
   ]
  },
  {
   "cell_type": "markdown",
   "id": "e8ef4bd0-9a07-48b7-b4f8-91db4b4cc045",
   "metadata": {},
   "source": [
    "### POI1 and POI2 have the same geolocation, drop POI2, keep POI1"
   ]
  },
  {
   "cell_type": "code",
   "execution_count": 99,
   "id": "29d66209-9f69-4210-a2c2-db5abff12430",
   "metadata": {},
   "outputs": [
    {
     "data": {
      "text/html": [
       "<div>\n",
       "<style scoped>\n",
       "    .dataframe tbody tr th:only-of-type {\n",
       "        vertical-align: middle;\n",
       "    }\n",
       "\n",
       "    .dataframe tbody tr th {\n",
       "        vertical-align: top;\n",
       "    }\n",
       "\n",
       "    .dataframe thead th {\n",
       "        text-align: right;\n",
       "    }\n",
       "</style>\n",
       "<table border=\"1\" class=\"dataframe\">\n",
       "  <thead>\n",
       "    <tr style=\"text-align: right;\">\n",
       "      <th></th>\n",
       "      <th>POIID</th>\n",
       "      <th>Latitude</th>\n",
       "      <th>Longitude</th>\n",
       "    </tr>\n",
       "  </thead>\n",
       "  <tbody>\n",
       "    <tr>\n",
       "      <th>0</th>\n",
       "      <td>POI1</td>\n",
       "      <td>53.546167</td>\n",
       "      <td>-113.485734</td>\n",
       "    </tr>\n",
       "    <tr>\n",
       "      <th>2</th>\n",
       "      <td>POI3</td>\n",
       "      <td>45.521629</td>\n",
       "      <td>-73.566024</td>\n",
       "    </tr>\n",
       "    <tr>\n",
       "      <th>3</th>\n",
       "      <td>POI4</td>\n",
       "      <td>45.224830</td>\n",
       "      <td>-63.232729</td>\n",
       "    </tr>\n",
       "  </tbody>\n",
       "</table>\n",
       "</div>"
      ],
      "text/plain": [
       "  POIID   Latitude   Longitude\n",
       "0  POI1  53.546167 -113.485734\n",
       "2  POI3  45.521629  -73.566024\n",
       "3  POI4  45.224830  -63.232729"
      ]
     },
     "execution_count": 99,
     "metadata": {},
     "output_type": "execute_result"
    }
   ],
   "source": [
    "filtered_POI_df = POI_df.drop_duplicates(subset=[' Latitude', 'Longitude'])\n",
    "filtered_POI_df"
   ]
  },
  {
   "cell_type": "code",
   "execution_count": 100,
   "id": "6aa9980a-ff04-4d78-bc95-9dcc80dec12a",
   "metadata": {},
   "outputs": [],
   "source": [
    "# Convert geolocation dataframe to a list of tuples\n",
    "subset = filtered_POI_df[[\" Latitude\",\"Longitude\"]]\n",
    "POI_geolocations = [tuple(x) for x in subset.to_numpy()]"
   ]
  },
  {
   "cell_type": "markdown",
   "id": "d496bc71-defc-40ec-a6cd-f89f2d05febb",
   "metadata": {},
   "source": [
    "# 2. Label"
   ]
  },
  {
   "cell_type": "code",
   "execution_count": 101,
   "id": "8945e0be-69a9-4ec5-bc48-1ae341648dfe",
   "metadata": {},
   "outputs": [],
   "source": [
    "# row in dataframe\n",
    "def compute_closest_POI(row):\n",
    "    lat = row['Latitude']\n",
    "    long = row['Longitude']\n",
    "    # compute squared distance differences with POI_geolocations\n",
    "    min_dis = 999999\n",
    "    min_POIID = 1\n",
    "    POI_count = 0\n",
    "    for geo in POI_geolocations:\n",
    "        # compute least square differences\n",
    "        dist = math.sqrt((lat-geo[0])**2 + (long-geo[1])**2)\n",
    "        # update min distance\n",
    "        if dist < min_dis:\n",
    "            min_dis = dist\n",
    "            min_POIID = POI_count\n",
    "        POI_count += 1\n",
    "    if min_POIID == 0:\n",
    "        return \"POI1\"\n",
    "    elif min_POIID == 1:\n",
    "        return \"POI3\"\n",
    "    else:\n",
    "        return \"POI4\""
   ]
  },
  {
   "cell_type": "code",
   "execution_count": 102,
   "id": "fd947765-5dad-42ed-9189-a0a58b946512",
   "metadata": {},
   "outputs": [
    {
     "name": "stderr",
     "output_type": "stream",
     "text": [
      "/var/folders/3t/mf04khg13xx1rr3170wrw8y40000gn/T/ipykernel_88533/3037355385.py:2: SettingWithCopyWarning: \n",
      "A value is trying to be set on a copy of a slice from a DataFrame.\n",
      "Try using .loc[row_indexer,col_indexer] = value instead\n",
      "\n",
      "See the caveats in the documentation: https://pandas.pydata.org/pandas-docs/stable/user_guide/indexing.html#returning-a-view-versus-a-copy\n",
      "  filtered_df['POI_label'] = filtered_df.apply(lambda row: compute_closest_POI(row), axis=1)\n"
     ]
    }
   ],
   "source": [
    "# Add a new column to the filtered_df\n",
    "filtered_df['POI_label'] = filtered_df.apply(lambda row: compute_closest_POI(row), axis=1)"
   ]
  },
  {
   "cell_type": "code",
   "execution_count": 103,
   "id": "8860712b-ba80-4f03-9219-71e44fa4ba58",
   "metadata": {},
   "outputs": [
    {
     "data": {
      "text/html": [
       "<div>\n",
       "<style scoped>\n",
       "    .dataframe tbody tr th:only-of-type {\n",
       "        vertical-align: middle;\n",
       "    }\n",
       "\n",
       "    .dataframe tbody tr th {\n",
       "        vertical-align: top;\n",
       "    }\n",
       "\n",
       "    .dataframe thead th {\n",
       "        text-align: right;\n",
       "    }\n",
       "</style>\n",
       "<table border=\"1\" class=\"dataframe\">\n",
       "  <thead>\n",
       "    <tr style=\"text-align: right;\">\n",
       "      <th></th>\n",
       "      <th>_ID</th>\n",
       "      <th>TimeSt</th>\n",
       "      <th>Country</th>\n",
       "      <th>Province</th>\n",
       "      <th>City</th>\n",
       "      <th>Latitude</th>\n",
       "      <th>Longitude</th>\n",
       "      <th>POI_label</th>\n",
       "    </tr>\n",
       "  </thead>\n",
       "  <tbody>\n",
       "    <tr>\n",
       "      <th>0</th>\n",
       "      <td>4516516</td>\n",
       "      <td>2017-06-21 00:00:00.143</td>\n",
       "      <td>CA</td>\n",
       "      <td>ON</td>\n",
       "      <td>Waterloo</td>\n",
       "      <td>43.49347</td>\n",
       "      <td>-80.49123</td>\n",
       "      <td>POI3</td>\n",
       "    </tr>\n",
       "    <tr>\n",
       "      <th>1</th>\n",
       "      <td>4516547</td>\n",
       "      <td>2017-06-21 18:00:00.193</td>\n",
       "      <td>CA</td>\n",
       "      <td>ON</td>\n",
       "      <td>London</td>\n",
       "      <td>42.93990</td>\n",
       "      <td>-81.27090</td>\n",
       "      <td>POI3</td>\n",
       "    </tr>\n",
       "    <tr>\n",
       "      <th>2</th>\n",
       "      <td>4516550</td>\n",
       "      <td>2017-06-21 15:00:00.287</td>\n",
       "      <td>CA</td>\n",
       "      <td>ON</td>\n",
       "      <td>Guelph</td>\n",
       "      <td>43.57760</td>\n",
       "      <td>-80.22010</td>\n",
       "      <td>POI3</td>\n",
       "    </tr>\n",
       "    <tr>\n",
       "      <th>3</th>\n",
       "      <td>4516600</td>\n",
       "      <td>2017-06-21 15:00:00.307</td>\n",
       "      <td>CA</td>\n",
       "      <td>ON</td>\n",
       "      <td>Stratford</td>\n",
       "      <td>43.37160</td>\n",
       "      <td>-80.97730</td>\n",
       "      <td>POI3</td>\n",
       "    </tr>\n",
       "    <tr>\n",
       "      <th>4</th>\n",
       "      <td>4516613</td>\n",
       "      <td>2017-06-21 15:00:00.497</td>\n",
       "      <td>CA</td>\n",
       "      <td>ON</td>\n",
       "      <td>Stratford</td>\n",
       "      <td>43.37160</td>\n",
       "      <td>-80.97730</td>\n",
       "      <td>POI3</td>\n",
       "    </tr>\n",
       "    <tr>\n",
       "      <th>...</th>\n",
       "      <td>...</td>\n",
       "      <td>...</td>\n",
       "      <td>...</td>\n",
       "      <td>...</td>\n",
       "      <td>...</td>\n",
       "      <td>...</td>\n",
       "      <td>...</td>\n",
       "      <td>...</td>\n",
       "    </tr>\n",
       "    <tr>\n",
       "      <th>22018</th>\n",
       "      <td>5614689</td>\n",
       "      <td>2017-06-21 13:23:01.370</td>\n",
       "      <td>CA</td>\n",
       "      <td>ON</td>\n",
       "      <td>London</td>\n",
       "      <td>42.96110</td>\n",
       "      <td>-81.24310</td>\n",
       "      <td>POI3</td>\n",
       "    </tr>\n",
       "    <tr>\n",
       "      <th>22020</th>\n",
       "      <td>5614801</td>\n",
       "      <td>2017-06-21 12:23:07.880</td>\n",
       "      <td>CA</td>\n",
       "      <td>ON</td>\n",
       "      <td>Saint Catharines</td>\n",
       "      <td>43.16440</td>\n",
       "      <td>-79.24560</td>\n",
       "      <td>POI3</td>\n",
       "    </tr>\n",
       "    <tr>\n",
       "      <th>22022</th>\n",
       "      <td>5614909</td>\n",
       "      <td>2017-06-21 00:23:07.903</td>\n",
       "      <td>CA</td>\n",
       "      <td>ON</td>\n",
       "      <td>Whitby</td>\n",
       "      <td>43.88730</td>\n",
       "      <td>-78.94220</td>\n",
       "      <td>POI3</td>\n",
       "    </tr>\n",
       "    <tr>\n",
       "      <th>22023</th>\n",
       "      <td>5614912</td>\n",
       "      <td>2017-06-21 11:23:07.953</td>\n",
       "      <td>CA</td>\n",
       "      <td>ON</td>\n",
       "      <td>Oakville</td>\n",
       "      <td>43.49340</td>\n",
       "      <td>-79.71260</td>\n",
       "      <td>POI3</td>\n",
       "    </tr>\n",
       "    <tr>\n",
       "      <th>22024</th>\n",
       "      <td>5615006</td>\n",
       "      <td>2017-06-21 17:23:08.033</td>\n",
       "      <td>CA</td>\n",
       "      <td>ON</td>\n",
       "      <td>Oakville</td>\n",
       "      <td>43.43090</td>\n",
       "      <td>-79.77670</td>\n",
       "      <td>POI3</td>\n",
       "    </tr>\n",
       "  </tbody>\n",
       "</table>\n",
       "<p>17973 rows × 8 columns</p>\n",
       "</div>"
      ],
      "text/plain": [
       "           _ID                   TimeSt Country Province              City  \\\n",
       "0      4516516  2017-06-21 00:00:00.143      CA       ON          Waterloo   \n",
       "1      4516547  2017-06-21 18:00:00.193      CA       ON            London   \n",
       "2      4516550  2017-06-21 15:00:00.287      CA       ON            Guelph   \n",
       "3      4516600  2017-06-21 15:00:00.307      CA       ON         Stratford   \n",
       "4      4516613  2017-06-21 15:00:00.497      CA       ON         Stratford   \n",
       "...        ...                      ...     ...      ...               ...   \n",
       "22018  5614689  2017-06-21 13:23:01.370      CA       ON            London   \n",
       "22020  5614801  2017-06-21 12:23:07.880      CA       ON  Saint Catharines   \n",
       "22022  5614909  2017-06-21 00:23:07.903      CA       ON            Whitby   \n",
       "22023  5614912  2017-06-21 11:23:07.953      CA       ON          Oakville   \n",
       "22024  5615006  2017-06-21 17:23:08.033      CA       ON          Oakville   \n",
       "\n",
       "       Latitude  Longitude POI_label  \n",
       "0      43.49347  -80.49123      POI3  \n",
       "1      42.93990  -81.27090      POI3  \n",
       "2      43.57760  -80.22010      POI3  \n",
       "3      43.37160  -80.97730      POI3  \n",
       "4      43.37160  -80.97730      POI3  \n",
       "...         ...        ...       ...  \n",
       "22018  42.96110  -81.24310      POI3  \n",
       "22020  43.16440  -79.24560      POI3  \n",
       "22022  43.88730  -78.94220      POI3  \n",
       "22023  43.49340  -79.71260      POI3  \n",
       "22024  43.43090  -79.77670      POI3  \n",
       "\n",
       "[17973 rows x 8 columns]"
      ]
     },
     "execution_count": 103,
     "metadata": {},
     "output_type": "execute_result"
    }
   ],
   "source": [
    "filtered_df"
   ]
  },
  {
   "cell_type": "markdown",
   "id": "b72b7642-861c-4b98-8243-de20ef3aa26f",
   "metadata": {},
   "source": [
    "# 3. Analysis"
   ]
  },
  {
   "cell_type": "code",
   "execution_count": 104,
   "id": "e94917be-50cd-42df-acd7-5c4929798dbc",
   "metadata": {},
   "outputs": [],
   "source": [
    "POI1_df = filtered_df[filtered_df['POI_label'] == 'POI1']\n",
    "POI3_df = filtered_df[filtered_df['POI_label'] == 'POI3']\n",
    "POI4_df = filtered_df[filtered_df['POI_label'] == 'POI4']"
   ]
  },
  {
   "cell_type": "markdown",
   "id": "b258a97d-ebe4-40e7-be0e-72557e1ba655",
   "metadata": {},
   "source": [
    "### For each POI, calculate the average and standard deviation of the distance between the POI to each of its assigned requests."
   ]
  },
  {
   "cell_type": "code",
   "execution_count": 105,
   "id": "d0b5db16-c4de-41d7-931d-a14c3dcd5a46",
   "metadata": {},
   "outputs": [],
   "source": [
    "def compute_dist_to_POI(row, POI):\n",
    "    lat = row['Latitude']\n",
    "    long = row['Longitude']\n",
    "    dist = math.sqrt((lat-POI[0])**2 + (long-POI[1])**2)\n",
    "    return dist"
   ]
  },
  {
   "cell_type": "code",
   "execution_count": 106,
   "id": "71947a37-4e52-4537-ac45-9ebf5f88f006",
   "metadata": {},
   "outputs": [
    {
     "name": "stderr",
     "output_type": "stream",
     "text": [
      "/var/folders/3t/mf04khg13xx1rr3170wrw8y40000gn/T/ipykernel_88533/643788208.py:1: SettingWithCopyWarning: \n",
      "A value is trying to be set on a copy of a slice from a DataFrame.\n",
      "Try using .loc[row_indexer,col_indexer] = value instead\n",
      "\n",
      "See the caveats in the documentation: https://pandas.pydata.org/pandas-docs/stable/user_guide/indexing.html#returning-a-view-versus-a-copy\n",
      "  POI1_df['dist_to_POI'] = POI1_df.apply(lambda r: compute_dist_to_POI(r, POI_geolocations[0]), axis=1)\n",
      "/var/folders/3t/mf04khg13xx1rr3170wrw8y40000gn/T/ipykernel_88533/643788208.py:2: SettingWithCopyWarning: \n",
      "A value is trying to be set on a copy of a slice from a DataFrame.\n",
      "Try using .loc[row_indexer,col_indexer] = value instead\n",
      "\n",
      "See the caveats in the documentation: https://pandas.pydata.org/pandas-docs/stable/user_guide/indexing.html#returning-a-view-versus-a-copy\n",
      "  POI3_df['dist_to_POI'] = POI3_df.apply(lambda r: compute_dist_to_POI(r, POI_geolocations[1]), axis=1)\n",
      "/var/folders/3t/mf04khg13xx1rr3170wrw8y40000gn/T/ipykernel_88533/643788208.py:3: SettingWithCopyWarning: \n",
      "A value is trying to be set on a copy of a slice from a DataFrame.\n",
      "Try using .loc[row_indexer,col_indexer] = value instead\n",
      "\n",
      "See the caveats in the documentation: https://pandas.pydata.org/pandas-docs/stable/user_guide/indexing.html#returning-a-view-versus-a-copy\n",
      "  POI4_df['dist_to_POI'] = POI4_df.apply(lambda r: compute_dist_to_POI(r, POI_geolocations[2]), axis=1)\n"
     ]
    }
   ],
   "source": [
    "POI1_df['dist_to_POI'] = POI1_df.apply(lambda r: compute_dist_to_POI(r, POI_geolocations[0]), axis=1)\n",
    "POI3_df['dist_to_POI'] = POI3_df.apply(lambda r: compute_dist_to_POI(r, POI_geolocations[1]), axis=1)\n",
    "POI4_df['dist_to_POI'] = POI4_df.apply(lambda r: compute_dist_to_POI(r, POI_geolocations[2]), axis=1)"
   ]
  },
  {
   "cell_type": "code",
   "execution_count": 107,
   "id": "da2f3c0b-1fac-405e-9626-af7594df8ab9",
   "metadata": {},
   "outputs": [
    {
     "name": "stdout",
     "output_type": "stream",
     "text": [
      "POI1\n",
      "Average distance: 3.3531 \n",
      "Std distance: 3.8496\n"
     ]
    }
   ],
   "source": [
    "# POI1 average distance & std\n",
    "POI1_avg_dist = POI1_df['dist_to_POI'].mean()\n",
    "POI1_std_dist = POI1_df['dist_to_POI'].std()\n",
    "print(\"POI1\\nAverage distance: {:.4f} \\nStd distance: {:.4f}\".format(POI1_avg_dist, POI1_std_dist))"
   ]
  },
  {
   "cell_type": "code",
   "execution_count": 108,
   "id": "d2622e00-08e8-4c03-bd76-1f4a128ffd65",
   "metadata": {},
   "outputs": [
    {
     "name": "stdout",
     "output_type": "stream",
     "text": [
      "POI3\n",
      "Average distance: 5.5379 \n",
      "Std distance: 2.8587\n"
     ]
    }
   ],
   "source": [
    "# POI3 average distance & std\n",
    "POI3_avg_dist = POI3_df['dist_to_POI'].mean()\n",
    "POI3_std_dist = POI3_df['dist_to_POI'].std()\n",
    "print(\"POI3\\nAverage distance: {:.4f} \\nStd distance: {:.4f}\".format(POI3_avg_dist, POI3_std_dist))"
   ]
  },
  {
   "cell_type": "code",
   "execution_count": 109,
   "id": "cfacecc6-e338-4e87-aace-ac12a2029ba4",
   "metadata": {},
   "outputs": [
    {
     "name": "stdout",
     "output_type": "stream",
     "text": [
      "POI4\n",
      "Average distance: 8.5224 \n",
      "Std distance: 27.3346\n"
     ]
    }
   ],
   "source": [
    "# POI4 average distance & std\n",
    "POI4_avg_dist = POI4_df['dist_to_POI'].mean()\n",
    "POI4_std_dist = POI4_df['dist_to_POI'].std()\n",
    "print(\"POI4\\nAverage distance: {:.4f} \\nStd distance: {:.4f}\".format(POI4_avg_dist, POI4_std_dist))"
   ]
  },
  {
   "cell_type": "markdown",
   "id": "58898cf6-477a-46fb-8584-9fcd87548268",
   "metadata": {},
   "source": [
    "### At each POI, draw a circle (with the center at the POI) that includes all of its assigned requests. Calculate the radius and density (requests/area) for each POI."
   ]
  },
  {
   "cell_type": "code",
   "execution_count": 110,
   "id": "38b1e281-b6a4-4cd2-a105-039570cc1426",
   "metadata": {},
   "outputs": [
    {
     "name": "stdout",
     "output_type": "stream",
     "text": [
      "POI1:\n",
      "radius: 24.8519\n",
      "density: 4.4967\n"
     ]
    }
   ],
   "source": [
    "# POI1\n",
    "# find the largest dist in POI1\n",
    "POI1_radius = POI1_df['dist_to_POI'].max()\n",
    "POI1_requests = POI1_df.shape[0]\n",
    "POI1_area = math.pi * (POI1_radius ** 2)\n",
    "POI1_density = POI1_requests / POI1_area\n",
    "print('POI1:')\n",
    "print('radius: {:.4f}'.format(POI1_radius))\n",
    "print('density: {:.4f}'.format(POI1_density))"
   ]
  },
  {
   "cell_type": "code",
   "execution_count": 111,
   "id": "432c8f99-cd0d-4787-873f-b2f81599c18f",
   "metadata": {},
   "outputs": [
    {
     "name": "stdout",
     "output_type": "stream",
     "text": [
      "POI3:\n",
      "radius: 20.1554\n",
      "density: 6.9117\n"
     ]
    }
   ],
   "source": [
    "# POI3\n",
    "# find the largest dist in POI3\n",
    "POI3_radius = POI3_df['dist_to_POI'].max()\n",
    "POI3_requests = POI3_df.shape[0]\n",
    "POI3_area = math.pi * (POI3_radius ** 2)\n",
    "POI3_density = POI3_requests / POI3_area\n",
    "print('POI3:')\n",
    "print('radius: {:.4f}'.format(POI3_radius))\n",
    "print('density: {:.4f}'.format(POI3_density))"
   ]
  },
  {
   "cell_type": "code",
   "execution_count": 112,
   "id": "8506f898-1b0e-440c-aade-535f9669d761",
   "metadata": {},
   "outputs": [
    {
     "name": "stdout",
     "output_type": "stream",
     "text": [
      "POI4:\n",
      "radius: 192.7050\n",
      "density: 0.2201\n"
     ]
    }
   ],
   "source": [
    "# POI4\n",
    "# find the largest dist in POI4\n",
    "POI4_radius = POI4_df['dist_to_POI'].max()\n",
    "POI4_requests = POI4_df.shape[0]\n",
    "POI4_area = math.pi * (POI1_radius ** 2)\n",
    "POI4_density = POI4_requests / POI4_area\n",
    "print('POI4:')\n",
    "print('radius: {:.4f}'.format(POI4_radius))\n",
    "print('density: {:.4f}'.format(POI4_density))"
   ]
  },
  {
   "cell_type": "markdown",
   "id": "24f99c82-c7bf-4dc7-a75f-44961cc06274",
   "metadata": {},
   "source": [
    "# 4. Modelling"
   ]
  },
  {
   "cell_type": "code",
   "execution_count": 113,
   "id": "31be9e43-7b94-43a3-b58c-b5a3b2c3f8e0",
   "metadata": {},
   "outputs": [
    {
     "data": {
      "text/plain": [
       "24.851937229893878"
      ]
     },
     "execution_count": 113,
     "metadata": {},
     "output_type": "execute_result"
    }
   ],
   "source": [
    "POI1_df['dist_to_POI'].max()"
   ]
  },
  {
   "cell_type": "code",
   "execution_count": 114,
   "id": "c36a5700-d347-4484-b9ae-106debe0290e",
   "metadata": {},
   "outputs": [
    {
     "data": {
      "text/html": [
       "<div>\n",
       "<style scoped>\n",
       "    .dataframe tbody tr th:only-of-type {\n",
       "        vertical-align: middle;\n",
       "    }\n",
       "\n",
       "    .dataframe tbody tr th {\n",
       "        vertical-align: top;\n",
       "    }\n",
       "\n",
       "    .dataframe thead th {\n",
       "        text-align: right;\n",
       "    }\n",
       "</style>\n",
       "<table border=\"1\" class=\"dataframe\">\n",
       "  <thead>\n",
       "    <tr style=\"text-align: right;\">\n",
       "      <th></th>\n",
       "      <th>POIID</th>\n",
       "      <th>Latitude</th>\n",
       "      <th>Longitude</th>\n",
       "    </tr>\n",
       "  </thead>\n",
       "  <tbody>\n",
       "    <tr>\n",
       "      <th>0</th>\n",
       "      <td>POI1</td>\n",
       "      <td>53.546167</td>\n",
       "      <td>-113.485734</td>\n",
       "    </tr>\n",
       "    <tr>\n",
       "      <th>2</th>\n",
       "      <td>POI3</td>\n",
       "      <td>45.521629</td>\n",
       "      <td>-73.566024</td>\n",
       "    </tr>\n",
       "    <tr>\n",
       "      <th>3</th>\n",
       "      <td>POI4</td>\n",
       "      <td>45.224830</td>\n",
       "      <td>-63.232729</td>\n",
       "    </tr>\n",
       "  </tbody>\n",
       "</table>\n",
       "</div>"
      ],
      "text/plain": [
       "  POIID   Latitude   Longitude\n",
       "0  POI1  53.546167 -113.485734\n",
       "2  POI3  45.521629  -73.566024\n",
       "3  POI4  45.224830  -63.232729"
      ]
     },
     "execution_count": 114,
     "metadata": {},
     "output_type": "execute_result"
    }
   ],
   "source": [
    "filtered_POI_df"
   ]
  },
  {
   "cell_type": "markdown",
   "id": "fbd95c6e-4069-4ffd-91b2-a8474b2a39c5",
   "metadata": {},
   "source": [
    "### To visualize the popularity of each *POI*, map them to a scale that ranges from -10 to 10. Please provide a mathematical model to implement this, considering extreme cases and outliers. Aim to be more sensitive around the average and give as much visual differentiability as possible."
   ]
  },
  {
   "cell_type": "code",
   "execution_count": 115,
   "id": "2f8da826-3d36-4193-b75d-00ee2b52fa3d",
   "metadata": {},
   "outputs": [],
   "source": [
    "import numpy as np\n",
    "import seaborn as sns"
   ]
  },
  {
   "cell_type": "code",
   "execution_count": 116,
   "id": "262945a7",
   "metadata": {},
   "outputs": [],
   "source": [
    "\n",
    "def plot_POI_dist_vs_popularity(POI_df, plot_title) -> sns.scatterplot:\n",
    "    \"\"\"\n",
    "    Plots a sns scatterplot where x-axis is the distance to its associated POI, and y-axis is the popularity\n",
    "    The red bar is where the mean of \"Distance to POI\" locates\n",
    "    \"\"\"\n",
    "    y_ax = [i for i in range(1, POI_df['dist_to_POI'].shape[0]+1)]\n",
    "    p = sns.scatterplot(x=np.sort(POI_df['dist_to_POI']), y=y_ax)\n",
    "    p.axvline(POI_df['dist_to_POI'].mean(), 0, 10, color='red', label='mean')\n",
    "    p.set_xlabel('Distance to POI')\n",
    "    p.set_ylabel('Popularity')\n",
    "    p.set_title(plot_title)\n",
    "    return p"
   ]
  },
  {
   "cell_type": "code",
   "execution_count": 117,
   "id": "3aa9fa78",
   "metadata": {},
   "outputs": [
    {
     "data": {
      "text/plain": [
       "<AxesSubplot:title={'center':'POI1'}, xlabel='Distance to POI', ylabel='Popularity'>"
      ]
     },
     "execution_count": 117,
     "metadata": {},
     "output_type": "execute_result"
    },
    {
     "data": {
      "image/png": "[encoded data removed]",
      "text/plain": [
       "<Figure size 432x288 with 1 Axes>"
      ]
     },
     "metadata": {
      "needs_background": "light"
     },
     "output_type": "display_data"
    }
   ],
   "source": [
    "plot_POI_dist_vs_popularity(POI1_df, \"POI1\")"
   ]
  },
  {
   "cell_type": "markdown",
   "id": "e80c61fc",
   "metadata": {},
   "source": [
    "> We can see that there are two outliers on the top-right corner in the figure"
   ]
  },
  {
   "cell_type": "code",
   "execution_count": 118,
   "id": "eb09a70d",
   "metadata": {},
   "outputs": [
    {
     "data": {
      "text/plain": [
       "<AxesSubplot:title={'center':'POI3'}, xlabel='Distance to POI', ylabel='Popularity'>"
      ]
     },
     "execution_count": 118,
     "metadata": {},
     "output_type": "execute_result"
    },
    {
     "data": {
      "image/png": "[encoded data removed]",
      "text/plain": [
       "<Figure size 432x288 with 1 Axes>"
      ]
     },
     "metadata": {
      "needs_background": "light"
     },
     "output_type": "display_data"
    }
   ],
   "source": [
    "plot_POI_dist_vs_popularity(POI3_df, \"POI3\")"
   ]
  },
  {
   "cell_type": "markdown",
   "id": "4e9e224f",
   "metadata": {},
   "source": [
    "> The points look pretty consistent, there's a steady trend, so no outliers"
   ]
  },
  {
   "cell_type": "code",
   "execution_count": 119,
   "id": "56a4a23e",
   "metadata": {},
   "outputs": [
    {
     "data": {
      "text/plain": [
       "<AxesSubplot:title={'center':'POI4'}, xlabel='Distance to POI', ylabel='Popularity'>"
      ]
     },
     "execution_count": 119,
     "metadata": {},
     "output_type": "execute_result"
    },
    {
     "data": {
      "image/png": "[encoded data removed]",
      "text/plain": [
       "<Figure size 432x288 with 1 Axes>"
      ]
     },
     "metadata": {
      "needs_background": "light"
     },
     "output_type": "display_data"
    }
   ],
   "source": [
    "plot_POI_dist_vs_popularity(POI4_df, \"POI4\")"
   ]
  },
  {
   "cell_type": "markdown",
   "id": "9d5b5276",
   "metadata": {},
   "source": [
    "> Outliers are the points that are greater than 50 dist away from the POI"
   ]
  },
  {
   "cell_type": "markdown",
   "id": "ce8037d1",
   "metadata": {},
   "source": [
    "Submission\n",
    "------\n",
    "I get stuck at this step. I have tried many mathmatical functions (bounded functions like tanh and sigmoid) to transform the range of popularity to a scale from -10 to 10, while being sensitive around the average. \n",
    "\n",
    "I have tried my best ability to finish this task. I really enjoy the process of manipulating and analyzing data to try to find out the hidden meaning of POIs. Even though I didn't solve the problem completely, I enjoyed the process of finishing it. Leo, Thank you for giving me a lot of helpful advice! I really appreaciated!"
   ]
  },
  {
   "cell_type": "markdown",
   "id": "4e768f9b",
   "metadata": {},
   "source": []
  }
 ],
 "metadata": {
  "kernelspec": {
   "display_name": "Python 3.9.7 ('base')",
   "language": "python",
   "name": "python3"
  },
  "language_info": {
   "codemirror_mode": {
    "name": "ipython",
    "version": 3
   },
   "file_extension": ".py",
   "mimetype": "text/x-python",
   "name": "python",
   "nbconvert_exporter": "python",
   "pygments_lexer": "ipython3",
   "version": "3.9.7"
  },
  "vscode": {
   "interpreter": {
    "hash": "8565e879b69163efe70a5ae6d76c6f2653d04dfe21b7340d7360f94ed08cdce9"
   }
  }
 },
 "nbformat": 4,
 "nbformat_minor": 5
}
